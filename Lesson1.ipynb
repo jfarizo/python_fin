{
 "cells": [
  {
   "cell_type": "markdown",
   "metadata": {},
   "source": [
    "# Lesson 1- An Introduction to Python"
   ]
  },
  {
   "cell_type": "markdown",
   "metadata": {},
   "source": [
    "These Python for Finance Lessons supplement the <i>Python for Finance</i> slides avaiable at www.josephfarizo.com. Be sure that you've looked over those slides first. It is also important to move sequentially through the lessons. \n",
    "\n",
    "In this Jupyter Notebook, we will introduce some basics in Python and lay the groundwork for our stock return graphing and $\\beta$ and $\\alpha$ calculation programs.\n",
    "\n",
    "In a Notebook, there are two main types of \"cells\": <i>Markdown</i> like this cell which contains notes and documentation, and <i>Code</i> which contains Python commands. You can add a cell by pressing the `+` button above, and toggle between <i>Markdown</i> and <i>Code</i> using the dropdown list.\n",
    "\n",
    "To execute the contents of a cell, select the cell and either press `Ctrl + Enter` or the `Run` button above. To reset all cells, select `Kernel` > `Restart & Clear Output`."
   ]
  },
  {
   "cell_type": "code",
   "execution_count": null,
   "metadata": {},
   "outputs": [],
   "source": [
    "#This is a \"code\" cell.\n",
    "#You can also put a # in front of text to take notes within code cells.\n",
    "print('Hello World!')"
   ]
  },
  {
   "cell_type": "markdown",
   "metadata": {},
   "source": [
    "***"
   ]
  },
  {
   "cell_type": "markdown",
   "metadata": {},
   "source": [
    "## Arithmetic & Variables\n",
    "\n",
    "Here, we'll do some simple operations and learn about storing variables."
   ]
  },
  {
   "cell_type": "code",
   "execution_count": null,
   "metadata": {},
   "outputs": [],
   "source": [
    "print(2+2)\n",
    "print(3-1)\n",
    "print(10*2)\n",
    "print(12/4)"
   ]
  },
  {
   "cell_type": "code",
   "execution_count": null,
   "metadata": {},
   "outputs": [],
   "source": [
    "#We can store numbers as variables:\n",
    "\n",
    "first_number = 2+3\n",
    "second_number = 6*4\n",
    "print('The sum of my two numbers is: ')\n",
    "print(first_number + second_number)"
   ]
  },
  {
   "cell_type": "code",
   "execution_count": null,
   "metadata": {},
   "outputs": [],
   "source": [
    "#The 'input' function tells Python to ask us for a value.\n",
    "first_name = input('Hi! What is your first name? ')\n",
    "last_name = input('What is your last name? ')\n",
    "print('Your full name is: ', first_name + ' ' + last_name)"
   ]
  },
  {
   "cell_type": "markdown",
   "metadata": {},
   "source": [
    "***"
   ]
  },
  {
   "cell_type": "markdown",
   "metadata": {},
   "source": [
    "# Dataframes"
   ]
  },
  {
   "cell_type": "markdown",
   "metadata": {},
   "source": [
    "Dataframes are columns and rows of data. We use the `pandas` and `numpy` libraries that we've pip installed. We now need to import the contents of this library, naming it `pd` and `np` so that it is easy to refer to when we need it. "
   ]
  },
  {
   "cell_type": "code",
   "execution_count": null,
   "metadata": {},
   "outputs": [],
   "source": [
    "#Import the libraries. Note that it is good practice to put all of your library\n",
    "#   imports at the beginning of your code, not in the middle as I've done here.\n",
    "#   For more info on these libraries, including examples and tutorials on their\n",
    "#   use, visit https://pandas.pydata.org/ and http://www.numpy.org/\n",
    "\n",
    "import pandas as pd\n",
    "import numpy as np"
   ]
  },
  {
   "cell_type": "code",
   "execution_count": null,
   "metadata": {},
   "outputs": [],
   "source": [
    "#Let's create a dataframe using the data we store in a 'dictionary' known as 'd'.\n",
    "\n",
    "d = {'a': [1, 2, 3, 4], 'b': [7, 8, 9, 10], 'c': [13, 14, 15, 16]}\n",
    "df = pd.DataFrame(data=d) #notice we call upon the pandas library here, the DataFrame method\n",
    "df"
   ]
  },
  {
   "cell_type": "code",
   "execution_count": null,
   "metadata": {},
   "outputs": [],
   "source": [
    "#Let's create a new column that is the sum of all the a and c values\n",
    "\n",
    "df['new_col'] = df['a'] + df['c']\n",
    "df.head(2) #let's just check the first 2 rows of the dataframe"
   ]
  },
  {
   "cell_type": "markdown",
   "metadata": {},
   "source": [
    "***"
   ]
  },
  {
   "cell_type": "markdown",
   "metadata": {},
   "source": [
    "# The Complete Code\n",
    "\n",
    "Here, I put all of the above code (with a bit of rearranging). If you copy the contents of the cell below into Spyder and execute the code, you will get the same results. "
   ]
  },
  {
   "cell_type": "code",
   "execution_count": null,
   "metadata": {},
   "outputs": [],
   "source": [
    "import pandas as pd\n",
    "import numpy as np\n",
    "\n",
    "print('Hello World!')\n",
    "\n",
    "print(2+2)\n",
    "print(3-1)\n",
    "print(10*2)\n",
    "print(12/4)\n",
    "\n",
    "first_number = 2+3\n",
    "second_number = 6*4\n",
    "print('The sum of my two numbers is: ')\n",
    "print(first_number + second_number)\n",
    "\n",
    "first_name = input('Hi! What is your first name? ')\n",
    "last_name = input('What is your last name? ')\n",
    "print('Your full name is: ', first_name + ' ' + last_name)\n",
    "\n",
    "d = {'a': [1, 2, 3, 4], 'b': [7, 8, 9, 10], 'c': [13, 14, 15, 16]}\n",
    "df = pd.DataFrame(data=d) #notice we call upon the pandas library here\n",
    "print(df)\n",
    "\n",
    "df['new_col'] = df['a'] + df['c']\n",
    "print('')\n",
    "print(df.head(2))"
   ]
  },
  {
   "cell_type": "markdown",
   "metadata": {},
   "source": [
    "***"
   ]
  },
  {
   "cell_type": "markdown",
   "metadata": {},
   "source": [
    "## Further Reading\n",
    "We now have just enough background knowledge to be able to make sense of more interesting examples that can retrieve and plot the returns of a stock we choose against a benchmark and calculate a stock's beta and alpha.\n",
    "\n",
    "A number of (free!) resources are available that provide a more thorough overview of Python basics. I recommend: <br />\n",
    "<ul>\n",
    "    <li>The official documentation beginning <a href: \"<https://docs.python.org/3/tutorial/introduction.html\">here</a>.</li>\n",
    "    <li>The book and website <a href=\"https://automatetheboringstuff.com/\"><i>Automate the Boring Stuff with Python</i></a>.</li>\n",
    "    <li>Tutorials available at <a href =\"https://www.quantopian.com/lectures\">Quantopian.com</a> are particularly useful for finance applications, particularly algorithmic trading.</li>\n",
    "     <li>The content available at <a href=\"https://www.sololearn.com/Course/Python/\">SoloLearn</a>, which allows you to learn on your phone or tablet, even though Python is not generally available for those devices.</li>\n",
    "</ul>\n",
    "\n",
    "And of course, you should be familiar with the resources available at http://www.mikefarrell.com/python_msf.html#videos.\n",
    "\n"
   ]
  }
 ],
 "metadata": {
  "kernelspec": {
   "display_name": "Python 3",
   "language": "python",
   "name": "python3"
  },
  "language_info": {
   "codemirror_mode": {
    "name": "ipython",
    "version": 3
   },
   "file_extension": ".py",
   "mimetype": "text/x-python",
   "name": "python",
   "nbconvert_exporter": "python",
   "pygments_lexer": "ipython3",
   "version": "3.7.1"
  }
 },
 "nbformat": 4,
 "nbformat_minor": 2
}
