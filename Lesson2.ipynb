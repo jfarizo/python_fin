{
 "cells": [
  {
   "cell_type": "markdown",
   "metadata": {},
   "source": [
    "\n",
    "# Lesson 2- Graphing Stock Returns"
   ]
  },
  {
   "cell_type": "markdown",
   "metadata": {},
   "source": [
    "In this example, we will retrieve historical stock data from <b><i>Yahoo! Finance</b></i> and plot the returns of a stock relative to a benchmark using Python.\n",
    "\n",
    "This example makes use of several libraries that need to be installed. Most come pre-packaged with Anaconda, but the two below do not. Be sure that you open \"Anaconda Prompt\" on your computer and type the following (individually and pressing \"Enter\" after each) before you run the code:\n",
    "\n",
    "`pip install requests_html` <br />\n",
    "`pip install yahoo_fin` <br />\n",
    "\n",
    "You will only need to do these \"pip installs\" once. Others you may need include are `matplotlib`, `pandas`, and `pandas_datareader`."
   ]
  },
  {
   "cell_type": "markdown",
   "metadata": {},
   "source": [
    "***"
   ]
  },
  {
   "cell_type": "markdown",
   "metadata": {},
   "source": [
    "## Importing Libraries\n",
    "\n",
    "We now import what we need from the libraries we've installed. The `yahoo_fin` library is used to scrape data from the <b><i>Yahoo! Finance</i></b> website. We will use the `get_data` \"method\" of the `stock_info` \"module\" to pull stock data from the site.\n",
    "\n",
    "The `matplotlib` library is used to graph our returns, and the `pyplot` module is a collection of functions that tell Python how to design a figure.\n",
    "\n"
   ]
  },
  {
   "cell_type": "code",
   "execution_count": null,
   "metadata": {},
   "outputs": [],
   "source": [
    "from yahoo_fin.stock_info import get_data\n",
    "import matplotlib.pyplot"
   ]
  },
  {
   "cell_type": "markdown",
   "metadata": {},
   "source": [
    "***"
   ]
  },
  {
   "cell_type": "markdown",
   "metadata": {},
   "source": [
    "## Retrieving Data\n",
    "Now, let's get some financial data, first from the S&P 500 and then from a stock of our choice using the `get_data` method of `yahoo_fin`. Rather than typing a specific stock into our code, let's make Python ask us what stock we want to lookup, store that input as a variable, and then use that variable as we calculate returns later.\n",
    "\n",
    "We'll store the data in dataframes called `sp500` and `share`."
   ]
  },
  {
   "cell_type": "code",
   "execution_count": null,
   "metadata": {},
   "outputs": [],
   "source": [
    "#Visit http://theautomatic.net/yahoo_fin-documentation/ for examples and syntax of get_data\n",
    "sp500 = get_data('^gspc' , start_date = '01/02/2010' , end_date = '01/02/2019')\n",
    "ticker = input('Input the ticker of the stock: ')\n",
    "share = get_data(ticker, start_date = '01/02/2010' , end_date = '01/02/2019')"
   ]
  },
  {
   "cell_type": "markdown",
   "metadata": {},
   "source": [
    "Let's see what the dataframes looks like."
   ]
  },
  {
   "cell_type": "code",
   "execution_count": null,
   "metadata": {},
   "outputs": [],
   "source": [
    "print(sp500.head())\n",
    "print(sp500.tail())"
   ]
  },
  {
   "cell_type": "code",
   "execution_count": null,
   "metadata": {},
   "outputs": [],
   "source": [
    "print(share.head())\n",
    "print(share.tail())"
   ]
  },
  {
   "cell_type": "markdown",
   "metadata": {},
   "source": [
    "***"
   ]
  },
  {
   "cell_type": "markdown",
   "metadata": {},
   "source": [
    "## Calculating Percent Returns\n",
    "\n",
    "For both the S&P 500 index and the stock we've chosen, let's divide each day's adjusted closing price by the adjusted closing price on the first day of the data in a new column called `new_div_first` (new adjusted closing price divided by the first adjusted closing price).\n",
    "\n",
    "Then, let's find each adjusted closing price's percent change relative to the first day of the data and store that in a new column called `pct_change`."
   ]
  },
  {
   "cell_type": "code",
   "execution_count": null,
   "metadata": {},
   "outputs": [],
   "source": [
    "sp500['new_div_first'] = sp500['adjclose'] / sp500['adjclose'].iloc[0]\n",
    "#.iloc[0] says we want the value in the \"location\" that is in the 0 \"index\" of the column we specify\n",
    "sp500['pct_change'] = (sp500['new_div_first']-1)*100\n",
    "\n",
    "share['new_div_first'] = share['adjclose'] / share['adjclose'].iloc[0]\n",
    "share['pct_change'] = (share['new_div_first']-1)*100\n",
    "\n",
    "share.head()"
   ]
  },
  {
   "cell_type": "markdown",
   "metadata": {},
   "source": [
    "Let's create new dataframes that consist of just the `pct_change` for both the market and the stock. (Note that technically this is called a \"series\" because there is only one column of data, while a dataframe has two or more columns of data.)"
   ]
  },
  {
   "cell_type": "code",
   "execution_count": null,
   "metadata": {},
   "outputs": [],
   "source": [
    "market_return = sp500['pct_change']\n",
    "stock_return = share['pct_change']\n",
    "\n",
    "market_return.head()"
   ]
  },
  {
   "cell_type": "markdown",
   "metadata": {},
   "source": [
    "***"
   ]
  },
  {
   "cell_type": "markdown",
   "metadata": {},
   "source": [
    "## Graphing\n",
    "\n",
    "Let's graph the relative returns for the S&P 500 and the stock we've chosen on the same graph to compare. Note that when we label the stock and create the title that we refer to the `ticker` variable we assigned above. Reference the `matplotlib` documentation to understand the syntax (https://matplotlib.org/index.html)."
   ]
  },
  {
   "cell_type": "code",
   "execution_count": null,
   "metadata": {},
   "outputs": [],
   "source": [
    "graph = stock_return.plot(label=ticker, legend=True, x=\"Time\", y = \"Percent\")\n",
    "graph = market_return.plot(label=\"S&P 500\", legend=True, title = ticker + \" vs. the S&P 500\")\n",
    "graph.set_ylabel('Return (in %)')\n",
    "graph.set_xlabel('Date')"
   ]
  },
  {
   "cell_type": "markdown",
   "metadata": {},
   "source": [
    "***"
   ]
  },
  {
   "cell_type": "markdown",
   "metadata": {},
   "source": [
    "## The Complete Code\n",
    "\n",
    "Here, I put all the lines of code from above into one cell, excluding the uncessary `print` lines. Notice that in 20 lines of code, we have written a Python script that can plot just about any stock from <i><b>Yahoo! Finance</b></i> that we tell it to against the S&P 500!\n",
    "\n",
    "If you copy and paste the cell below into Spyder, you should get the same results as above. You may need to type rather than copy and paste over to Spyder for it to run properly (sometimes copy/pasting messes with the formatting, and in Python formatting is very important.)"
   ]
  },
  {
   "cell_type": "code",
   "execution_count": null,
   "metadata": {},
   "outputs": [],
   "source": [
    "from yahoo_fin.stock_info import get_data\n",
    "import matplotlib.pyplot\n",
    "\n",
    "sp500 = get_data('^gspc' , start_date = '01/02/2010' , end_date = '01/02/2019')\n",
    "ticker = input('Input the ticker of the stock: ')\n",
    "share = get_data(ticker, start_date = '01/02/2010' , end_date = '01/02/2019')\n",
    "\n",
    "sp500['new_div_first'] = sp500['adjclose'] / sp500['adjclose'].iloc[0]\n",
    "sp500['pct_change'] = (sp500['new_div_first']-1)*100\n",
    "\n",
    "share['new_div_first'] = share['adjclose'] / share['adjclose'].iloc[0]\n",
    "share['pct_change'] = (share['new_div_first']-1)*100\n",
    "\n",
    "market_return = sp500['pct_change']\n",
    "stock_return = share['pct_change']\n",
    "\n",
    "graph = stock_return.plot(label=ticker, legend=True, x=\"Time\", y = \"Percent\")\n",
    "graph.set_ylabel('Return (in %)')\n",
    "graph.set_xlabel('Date')\n",
    "graph = market_return.plot(label=\"S&P 500\", legend=True, title = ticker + \" vs. the S&P 500\")\n"
   ]
  },
  {
   "cell_type": "markdown",
   "metadata": {},
   "source": [
    "***"
   ]
  },
  {
   "cell_type": "markdown",
   "metadata": {},
   "source": [
    "## Further Reading\n",
    "\n",
    "Be sure to check out the documentaion for the different libraries we've used. Their websites have plenty of examples to help you understand what they can do and how to used their functions.\n",
    "\n",
    "`yahoo_fin` documentation: http://theautomatic.net/yahoo_fin-documentation/ <br />\n",
    "`pandas` documentation: https://pandas.pydata.org/pandas-docs/stable/  <br />\n",
    "`matplotlib` documentation: https://matplotlib.org/index.html <br />"
   ]
  }
 ],
 "metadata": {
  "kernelspec": {
   "display_name": "Python 3",
   "language": "python",
   "name": "python3"
  },
  "language_info": {
   "codemirror_mode": {
    "name": "ipython",
    "version": 3
   },
   "file_extension": ".py",
   "mimetype": "text/x-python",
   "name": "python",
   "nbconvert_exporter": "python",
   "pygments_lexer": "ipython3",
   "version": "3.7.1"
  }
 },
 "nbformat": 4,
 "nbformat_minor": 2
}
